{
 "cells": [
  {
   "cell_type": "markdown",
   "id": "513247b1",
   "metadata": {},
   "source": [
    "# Install the ucimlrepo package"
   ]
  },
  {
   "cell_type": "code",
   "execution_count": 10,
   "id": "fc239188",
   "metadata": {
    "scrolled": true
   },
   "outputs": [
    {
     "name": "stdout",
     "output_type": "stream",
     "text": [
      "Collecting ucimlrepo\n",
      "  Downloading ucimlrepo-0.0.1-py3-none-any.whl (7.0 kB)\n",
      "Installing collected packages: ucimlrepo\n",
      "Successfully installed ucimlrepo-0.0.1\n",
      "Note: you may need to restart the kernel to use updated packages.\n"
     ]
    }
   ],
   "source": [
    "pip install ucimlrepo"
   ]
  },
  {
   "cell_type": "markdown",
   "id": "58192558",
   "metadata": {},
   "source": [
    "# Import the dataset into the code"
   ]
  },
  {
   "cell_type": "code",
   "execution_count": 13,
   "id": "c370f48d",
   "metadata": {},
   "outputs": [
    {
     "name": "stdout",
     "output_type": "stream",
     "text": [
      "-------------------------------------\n",
      "The following datasets are available:\n",
      "-------------------------------------\n",
      "Dataset Name                                      ID    \n",
      "------------                                      --    \n",
      "Abalone                                           1     \n",
      "Adult                                             2     \n",
      "Auto MPG                                          9     \n",
      "Automobile                                        10    \n",
      "Breast Cancer                                     14    \n",
      "Breast Cancer Wisconsin (Original)                15    \n",
      "Breast Cancer Wisconsin (Diagnostic)              17    \n",
      "Car Evaluation                                    19    \n",
      "Credit Approval                                   27    \n",
      "Glass Identification                              42    \n",
      "Heart Disease                                     45    \n",
      "Iris                                              53    \n",
      "Liver Disorders                                   60    \n",
      "Mushroom                                          73    \n",
      "Optical Recognition of Handwritten Digits         80    \n",
      "Spambase                                          94    \n",
      "Wine                                              109   \n",
      "Zoo                                               111   \n",
      "Statlog (German Credit Data)                      144   \n",
      "Wine Quality                                      186   \n",
      "Parkinsons Telemonitoring                         189   \n",
      "Bank Marketing                                    222   \n",
      "ILPD (Indian Liver Patient Dataset)               225   \n",
      "Thoracic Surgery Data                             277   \n",
      "Diabetes 130-US hospitals for years 1999-2008     296   \n",
      "Diabetic Retinopathy Debrecen                     329   \n",
      "Heart failure clinical records                    519   \n",
      "Rice (Cammeo and Osmancik)                        545   \n",
      "Bone marrow transplant: children                  565   \n",
      "HCV data                                          571   \n",
      "Myocardial infarction complications               579   \n",
      "Dry Bean Dataset                                  602   \n",
      "Predict students' dropout and academic success    697   \n",
      "Glioma Grading Clinical and Mutation Features     759   \n",
      "Sepsis Survival Minimal Clinical Records          827   \n",
      "Cirrhosis Patient Survival Prediction             878   \n",
      "SUPPORT2                                          880   \n",
      "\n"
     ]
    }
   ],
   "source": [
    "from ucimlrepo import fetch_ucirepo, list_available_datasets\n",
    "list_available_datasets()"
   ]
  },
  {
   "cell_type": "code",
   "execution_count": 18,
   "id": "3279d9a7",
   "metadata": {},
   "outputs": [
    {
     "ename": "TypeError",
     "evalue": "'NoneType' object is not iterable",
     "output_type": "error",
     "traceback": [
      "\u001b[1;31m---------------------------------------------------------------------------\u001b[0m",
      "\u001b[1;31mTypeError\u001b[0m                                 Traceback (most recent call last)",
      "Input \u001b[1;32mIn [18]\u001b[0m, in \u001b[0;36m<cell line: 2>\u001b[1;34m()\u001b[0m\n\u001b[0;32m      1\u001b[0m \u001b[38;5;66;03m# fetch dataset \u001b[39;00m\n\u001b[1;32m----> 2\u001b[0m breast_cancer_wisconsin_original \u001b[38;5;241m=\u001b[39m \u001b[43mfetch_ucirepo\u001b[49m\u001b[43m(\u001b[49m\u001b[38;5;28;43mid\u001b[39;49m\u001b[38;5;241;43m=\u001b[39;49m\u001b[38;5;241;43m15\u001b[39;49m\u001b[43m)\u001b[49m\n\u001b[0;32m      4\u001b[0m \u001b[38;5;66;03m# data (as pandas dataframes) \u001b[39;00m\n\u001b[0;32m      5\u001b[0m X \u001b[38;5;241m=\u001b[39m breast_cancer_wisconsin_original\u001b[38;5;241m.\u001b[39mdata\u001b[38;5;241m.\u001b[39mfeatures \n",
      "File \u001b[1;32m~\\anaconda3\\lib\\site-packages\\ucimlrepo\\fetch.py:148\u001b[0m, in \u001b[0;36mfetch_ucirepo\u001b[1;34m(name, id)\u001b[0m\n\u001b[0;32m    142\u001b[0m \u001b[38;5;66;03m# alternative usage?: \u001b[39;00m\n\u001b[0;32m    143\u001b[0m \u001b[38;5;66;03m# variables.age.role or variables.slope.description\u001b[39;00m\n\u001b[0;32m    144\u001b[0m \u001b[38;5;66;03m# print(variables) -> json-like dict with keys [name] -> details\u001b[39;00m\n\u001b[0;32m    145\u001b[0m \n\u001b[0;32m    146\u001b[0m \u001b[38;5;66;03m# make nested metadata fields accessible via dot notation\u001b[39;00m\n\u001b[0;32m    147\u001b[0m metadata[\u001b[38;5;124m'\u001b[39m\u001b[38;5;124madditional_info\u001b[39m\u001b[38;5;124m'\u001b[39m] \u001b[38;5;241m=\u001b[39m dotdict(metadata[\u001b[38;5;124m'\u001b[39m\u001b[38;5;124madditional_info\u001b[39m\u001b[38;5;124m'\u001b[39m])\n\u001b[1;32m--> 148\u001b[0m metadata[\u001b[38;5;124m'\u001b[39m\u001b[38;5;124mintro_paper\u001b[39m\u001b[38;5;124m'\u001b[39m] \u001b[38;5;241m=\u001b[39m \u001b[43mdotdict\u001b[49m\u001b[43m(\u001b[49m\u001b[43mmetadata\u001b[49m\u001b[43m[\u001b[49m\u001b[38;5;124;43m'\u001b[39;49m\u001b[38;5;124;43mintro_paper\u001b[39;49m\u001b[38;5;124;43m'\u001b[39;49m\u001b[43m]\u001b[49m\u001b[43m)\u001b[49m\n\u001b[0;32m    150\u001b[0m \u001b[38;5;66;03m# construct result object\u001b[39;00m\n\u001b[0;32m    151\u001b[0m result \u001b[38;5;241m=\u001b[39m {\n\u001b[0;32m    152\u001b[0m     \u001b[38;5;124m'\u001b[39m\u001b[38;5;124mdata\u001b[39m\u001b[38;5;124m'\u001b[39m: dotdict(data),\n\u001b[0;32m    153\u001b[0m     \u001b[38;5;124m'\u001b[39m\u001b[38;5;124mmetadata\u001b[39m\u001b[38;5;124m'\u001b[39m: dotdict(metadata),\n\u001b[0;32m    154\u001b[0m     \u001b[38;5;124m'\u001b[39m\u001b[38;5;124mvariables\u001b[39m\u001b[38;5;124m'\u001b[39m: variables\n\u001b[0;32m    155\u001b[0m }\n",
      "\u001b[1;31mTypeError\u001b[0m: 'NoneType' object is not iterable"
     ]
    }
   ],
   "source": [
    "# fetch dataset \n",
    "breast_cancer_wisconsin_original = fetch_ucirepo(id=15)\n",
    "  \n",
    "# data (as pandas dataframes) \n",
    "X = breast_cancer_wisconsin_original.data.features \n",
    "y = breast_cancer_wisconsin_original.data.targets \n",
    "  \n",
    "# metadata \n",
    "print(breast_cancer_wisconsin_original.metadata) \n",
    "  \n",
    "# variable information \n",
    "print(breast_cancer_wisconsin_original.variables) \n"
   ]
  },
  {
   "cell_type": "code",
   "execution_count": null,
   "id": "39babb5c",
   "metadata": {},
   "outputs": [],
   "source": []
  }
 ],
 "metadata": {
  "kernelspec": {
   "display_name": "Python 3 (ipykernel)",
   "language": "python",
   "name": "python3"
  },
  "language_info": {
   "codemirror_mode": {
    "name": "ipython",
    "version": 3
   },
   "file_extension": ".py",
   "mimetype": "text/x-python",
   "name": "python",
   "nbconvert_exporter": "python",
   "pygments_lexer": "ipython3",
   "version": "3.9.12"
  }
 },
 "nbformat": 4,
 "nbformat_minor": 5
}
